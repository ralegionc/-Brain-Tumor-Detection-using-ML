{
 "cells": [
  {
   "cell_type": "code",
   "execution_count": 3,
   "id": "bba73d94",
   "metadata": {
    "execution": {
     "iopub.execute_input": "2023-03-01T21:10:22.466611Z",
     "iopub.status.busy": "2023-03-01T21:10:22.466109Z",
     "iopub.status.idle": "2023-03-01T21:10:30.389268Z",
     "shell.execute_reply": "2023-03-01T21:10:30.388161Z"
    },
    "papermill": {
     "duration": 7.932899,
     "end_time": "2023-03-01T21:10:30.392042",
     "exception": false,
     "start_time": "2023-03-01T21:10:22.459143",
     "status": "completed"
    },
    "tags": []
   },
   "outputs": [
    {
     "ename": "KeyboardInterrupt",
     "evalue": "",
     "output_type": "error",
     "traceback": [
      "\u001b[1;31m---------------------------------------------------------------------------\u001b[0m",
      "\u001b[1;31mKeyboardInterrupt\u001b[0m                         Traceback (most recent call last)",
      "\u001b[1;32m~\\AppData\\Local\\Temp/ipykernel_23020/1644795719.py\u001b[0m in \u001b[0;36m<module>\u001b[1;34m\u001b[0m\n\u001b[0;32m      1\u001b[0m \u001b[1;31m# Importing reqlibraries\u001b[0m\u001b[1;33m\u001b[0m\u001b[1;33m\u001b[0m\u001b[1;33m\u001b[0m\u001b[0m\n\u001b[0;32m      2\u001b[0m \u001b[1;32mimport\u001b[0m \u001b[0mpandas\u001b[0m \u001b[1;32mas\u001b[0m \u001b[0mpd\u001b[0m\u001b[1;33m\u001b[0m\u001b[1;33m\u001b[0m\u001b[0m\n\u001b[1;32m----> 3\u001b[1;33m \u001b[1;32mimport\u001b[0m \u001b[0mtensorflow\u001b[0m \u001b[1;32mas\u001b[0m \u001b[0mtf\u001b[0m\u001b[1;33m\u001b[0m\u001b[1;33m\u001b[0m\u001b[0m\n\u001b[0m\u001b[0;32m      4\u001b[0m \u001b[1;32mfrom\u001b[0m \u001b[0mtensorflow\u001b[0m \u001b[1;32mimport\u001b[0m \u001b[0mkeras\u001b[0m\u001b[1;33m\u001b[0m\u001b[1;33m\u001b[0m\u001b[0m\n\u001b[0;32m      5\u001b[0m \u001b[1;32mfrom\u001b[0m \u001b[0mkeras\u001b[0m\u001b[1;33m.\u001b[0m\u001b[0mmodels\u001b[0m \u001b[1;32mimport\u001b[0m \u001b[0mSequential\u001b[0m\u001b[1;33m\u001b[0m\u001b[1;33m\u001b[0m\u001b[0m\n",
      "\u001b[1;32mc:\\users\\legio\\appdata\\local\\programs\\python\\python39\\lib\\site-packages\\tensorflow\\__init__.py\u001b[0m in \u001b[0;36m<module>\u001b[1;34m\u001b[0m\n\u001b[0;32m    471\u001b[0m \u001b[1;32mif\u001b[0m \u001b[0mhasattr\u001b[0m\u001b[1;33m(\u001b[0m\u001b[0m_current_module\u001b[0m\u001b[1;33m,\u001b[0m \u001b[1;34m\"keras\"\u001b[0m\u001b[1;33m)\u001b[0m\u001b[1;33m:\u001b[0m\u001b[1;33m\u001b[0m\u001b[1;33m\u001b[0m\u001b[0m\n\u001b[0;32m    472\u001b[0m   \u001b[1;32mtry\u001b[0m\u001b[1;33m:\u001b[0m\u001b[1;33m\u001b[0m\u001b[1;33m\u001b[0m\u001b[0m\n\u001b[1;32m--> 473\u001b[1;33m     \u001b[0mkeras\u001b[0m\u001b[1;33m.\u001b[0m\u001b[0m_load\u001b[0m\u001b[1;33m(\u001b[0m\u001b[1;33m)\u001b[0m\u001b[1;33m\u001b[0m\u001b[1;33m\u001b[0m\u001b[0m\n\u001b[0m\u001b[0;32m    474\u001b[0m   \u001b[1;32mexcept\u001b[0m \u001b[0mImportError\u001b[0m\u001b[1;33m:\u001b[0m\u001b[1;33m\u001b[0m\u001b[1;33m\u001b[0m\u001b[0m\n\u001b[0;32m    475\u001b[0m     \u001b[1;32mpass\u001b[0m\u001b[1;33m\u001b[0m\u001b[1;33m\u001b[0m\u001b[0m\n",
      "\u001b[1;32mc:\\users\\legio\\appdata\\local\\programs\\python\\python39\\lib\\site-packages\\tensorflow\\python\\util\\lazy_loader.py\u001b[0m in \u001b[0;36m_load\u001b[1;34m(self)\u001b[0m\n\u001b[0;32m     39\u001b[0m     \u001b[1;34m\"\"\"Load the module and insert it into the parent's globals.\"\"\"\u001b[0m\u001b[1;33m\u001b[0m\u001b[1;33m\u001b[0m\u001b[0m\n\u001b[0;32m     40\u001b[0m     \u001b[1;31m# Import the target module and insert it into the parent's namespace\u001b[0m\u001b[1;33m\u001b[0m\u001b[1;33m\u001b[0m\u001b[1;33m\u001b[0m\u001b[0m\n\u001b[1;32m---> 41\u001b[1;33m     \u001b[0mmodule\u001b[0m \u001b[1;33m=\u001b[0m \u001b[0mimportlib\u001b[0m\u001b[1;33m.\u001b[0m\u001b[0mimport_module\u001b[0m\u001b[1;33m(\u001b[0m\u001b[0mself\u001b[0m\u001b[1;33m.\u001b[0m\u001b[0m__name__\u001b[0m\u001b[1;33m)\u001b[0m\u001b[1;33m\u001b[0m\u001b[1;33m\u001b[0m\u001b[0m\n\u001b[0m\u001b[0;32m     42\u001b[0m     \u001b[0mself\u001b[0m\u001b[1;33m.\u001b[0m\u001b[0m_parent_module_globals\u001b[0m\u001b[1;33m[\u001b[0m\u001b[0mself\u001b[0m\u001b[1;33m.\u001b[0m\u001b[0m_local_name\u001b[0m\u001b[1;33m]\u001b[0m \u001b[1;33m=\u001b[0m \u001b[0mmodule\u001b[0m\u001b[1;33m\u001b[0m\u001b[1;33m\u001b[0m\u001b[0m\n\u001b[0;32m     43\u001b[0m \u001b[1;33m\u001b[0m\u001b[0m\n",
      "\u001b[1;32mc:\\users\\legio\\appdata\\local\\programs\\python\\python39\\lib\\importlib\\__init__.py\u001b[0m in \u001b[0;36mimport_module\u001b[1;34m(name, package)\u001b[0m\n\u001b[0;32m    125\u001b[0m                 \u001b[1;32mbreak\u001b[0m\u001b[1;33m\u001b[0m\u001b[1;33m\u001b[0m\u001b[0m\n\u001b[0;32m    126\u001b[0m             \u001b[0mlevel\u001b[0m \u001b[1;33m+=\u001b[0m \u001b[1;36m1\u001b[0m\u001b[1;33m\u001b[0m\u001b[1;33m\u001b[0m\u001b[0m\n\u001b[1;32m--> 127\u001b[1;33m     \u001b[1;32mreturn\u001b[0m \u001b[0m_bootstrap\u001b[0m\u001b[1;33m.\u001b[0m\u001b[0m_gcd_import\u001b[0m\u001b[1;33m(\u001b[0m\u001b[0mname\u001b[0m\u001b[1;33m[\u001b[0m\u001b[0mlevel\u001b[0m\u001b[1;33m:\u001b[0m\u001b[1;33m]\u001b[0m\u001b[1;33m,\u001b[0m \u001b[0mpackage\u001b[0m\u001b[1;33m,\u001b[0m \u001b[0mlevel\u001b[0m\u001b[1;33m)\u001b[0m\u001b[1;33m\u001b[0m\u001b[1;33m\u001b[0m\u001b[0m\n\u001b[0m\u001b[0;32m    128\u001b[0m \u001b[1;33m\u001b[0m\u001b[0m\n\u001b[0;32m    129\u001b[0m \u001b[1;33m\u001b[0m\u001b[0m\n",
      "\u001b[1;32mc:\\users\\legio\\appdata\\local\\programs\\python\\python39\\lib\\site-packages\\keras\\api\\__init__.py\u001b[0m in \u001b[0;36m<module>\u001b[1;34m\u001b[0m\n\u001b[0;32m      6\u001b[0m \u001b[1;32mimport\u001b[0m \u001b[0msys\u001b[0m \u001b[1;32mas\u001b[0m \u001b[0m_sys\u001b[0m\u001b[1;33m\u001b[0m\u001b[1;33m\u001b[0m\u001b[0m\n\u001b[0;32m      7\u001b[0m \u001b[1;33m\u001b[0m\u001b[0m\n\u001b[1;32m----> 8\u001b[1;33m \u001b[1;32mfrom\u001b[0m \u001b[0mkeras\u001b[0m\u001b[1;33m.\u001b[0m\u001b[0mapi\u001b[0m \u001b[1;32mimport\u001b[0m \u001b[0mkeras\u001b[0m\u001b[1;33m\u001b[0m\u001b[1;33m\u001b[0m\u001b[0m\n\u001b[0m\u001b[0;32m      9\u001b[0m \u001b[1;32mfrom\u001b[0m \u001b[0mtensorflow\u001b[0m\u001b[1;33m.\u001b[0m\u001b[0mpython\u001b[0m\u001b[1;33m.\u001b[0m\u001b[0mutil\u001b[0m \u001b[1;32mimport\u001b[0m \u001b[0mmodule_wrapper\u001b[0m \u001b[1;32mas\u001b[0m \u001b[0m_module_wrapper\u001b[0m\u001b[1;33m\u001b[0m\u001b[1;33m\u001b[0m\u001b[0m\n\u001b[0;32m     10\u001b[0m \u001b[1;33m\u001b[0m\u001b[0m\n",
      "\u001b[1;32mc:\\users\\legio\\appdata\\local\\programs\\python\\python39\\lib\\site-packages\\keras\\api\\keras\\__init__.py\u001b[0m in \u001b[0;36m<module>\u001b[1;34m\u001b[0m\n\u001b[0;32m      7\u001b[0m \u001b[1;33m\u001b[0m\u001b[0m\n\u001b[0;32m      8\u001b[0m \u001b[1;32mfrom\u001b[0m \u001b[0mkeras\u001b[0m \u001b[1;32mimport\u001b[0m \u001b[0m__version__\u001b[0m\u001b[1;33m\u001b[0m\u001b[1;33m\u001b[0m\u001b[0m\n\u001b[1;32m----> 9\u001b[1;33m \u001b[1;32mfrom\u001b[0m \u001b[0mkeras\u001b[0m\u001b[1;33m.\u001b[0m\u001b[0mapi\u001b[0m\u001b[1;33m.\u001b[0m\u001b[0mkeras\u001b[0m \u001b[1;32mimport\u001b[0m \u001b[0m__internal__\u001b[0m\u001b[1;33m\u001b[0m\u001b[1;33m\u001b[0m\u001b[0m\n\u001b[0m\u001b[0;32m     10\u001b[0m \u001b[1;32mfrom\u001b[0m \u001b[0mkeras\u001b[0m\u001b[1;33m.\u001b[0m\u001b[0mapi\u001b[0m\u001b[1;33m.\u001b[0m\u001b[0mkeras\u001b[0m \u001b[1;32mimport\u001b[0m \u001b[0mactivations\u001b[0m\u001b[1;33m\u001b[0m\u001b[1;33m\u001b[0m\u001b[0m\n\u001b[0;32m     11\u001b[0m \u001b[1;32mfrom\u001b[0m \u001b[0mkeras\u001b[0m\u001b[1;33m.\u001b[0m\u001b[0mapi\u001b[0m\u001b[1;33m.\u001b[0m\u001b[0mkeras\u001b[0m \u001b[1;32mimport\u001b[0m \u001b[0mapplications\u001b[0m\u001b[1;33m\u001b[0m\u001b[1;33m\u001b[0m\u001b[0m\n",
      "\u001b[1;32mc:\\users\\legio\\appdata\\local\\programs\\python\\python39\\lib\\site-packages\\keras\\api\\keras\\__internal__\\__init__.py\u001b[0m in \u001b[0;36m<module>\u001b[1;34m\u001b[0m\n\u001b[0;32m      6\u001b[0m \u001b[1;32mimport\u001b[0m \u001b[0msys\u001b[0m \u001b[1;32mas\u001b[0m \u001b[0m_sys\u001b[0m\u001b[1;33m\u001b[0m\u001b[1;33m\u001b[0m\u001b[0m\n\u001b[0;32m      7\u001b[0m \u001b[1;33m\u001b[0m\u001b[0m\n\u001b[1;32m----> 8\u001b[1;33m \u001b[1;32mfrom\u001b[0m \u001b[0mkeras\u001b[0m\u001b[1;33m.\u001b[0m\u001b[0mapi\u001b[0m\u001b[1;33m.\u001b[0m\u001b[0mkeras\u001b[0m\u001b[1;33m.\u001b[0m\u001b[0m__internal__\u001b[0m \u001b[1;32mimport\u001b[0m \u001b[0mlegacy\u001b[0m\u001b[1;33m\u001b[0m\u001b[1;33m\u001b[0m\u001b[0m\n\u001b[0m\u001b[0;32m      9\u001b[0m \u001b[1;32mfrom\u001b[0m \u001b[0mtensorflow\u001b[0m\u001b[1;33m.\u001b[0m\u001b[0mpython\u001b[0m\u001b[1;33m.\u001b[0m\u001b[0mutil\u001b[0m \u001b[1;32mimport\u001b[0m \u001b[0mmodule_wrapper\u001b[0m \u001b[1;32mas\u001b[0m \u001b[0m_module_wrapper\u001b[0m\u001b[1;33m\u001b[0m\u001b[1;33m\u001b[0m\u001b[0m\n\u001b[0;32m     10\u001b[0m \u001b[1;33m\u001b[0m\u001b[0m\n",
      "\u001b[1;32mc:\\users\\legio\\appdata\\local\\programs\\python\\python39\\lib\\site-packages\\keras\\api\\keras\\__internal__\\legacy\\__init__.py\u001b[0m in \u001b[0;36m<module>\u001b[1;34m\u001b[0m\n\u001b[0;32m      6\u001b[0m \u001b[1;32mimport\u001b[0m \u001b[0msys\u001b[0m \u001b[1;32mas\u001b[0m \u001b[0m_sys\u001b[0m\u001b[1;33m\u001b[0m\u001b[1;33m\u001b[0m\u001b[0m\n\u001b[0;32m      7\u001b[0m \u001b[1;33m\u001b[0m\u001b[0m\n\u001b[1;32m----> 8\u001b[1;33m \u001b[1;32mfrom\u001b[0m \u001b[0mkeras\u001b[0m\u001b[1;33m.\u001b[0m\u001b[0mapi\u001b[0m\u001b[1;33m.\u001b[0m\u001b[0mkeras\u001b[0m\u001b[1;33m.\u001b[0m\u001b[0m__internal__\u001b[0m\u001b[1;33m.\u001b[0m\u001b[0mlegacy\u001b[0m \u001b[1;32mimport\u001b[0m \u001b[0mlayers\u001b[0m\u001b[1;33m\u001b[0m\u001b[1;33m\u001b[0m\u001b[0m\n\u001b[0m\u001b[0;32m      9\u001b[0m \u001b[1;32mfrom\u001b[0m \u001b[0mkeras\u001b[0m\u001b[1;33m.\u001b[0m\u001b[0mapi\u001b[0m\u001b[1;33m.\u001b[0m\u001b[0mkeras\u001b[0m\u001b[1;33m.\u001b[0m\u001b[0m__internal__\u001b[0m\u001b[1;33m.\u001b[0m\u001b[0mlegacy\u001b[0m \u001b[1;32mimport\u001b[0m \u001b[0mrnn_cell\u001b[0m\u001b[1;33m\u001b[0m\u001b[1;33m\u001b[0m\u001b[0m\n\u001b[0;32m     10\u001b[0m \u001b[1;32mfrom\u001b[0m \u001b[0mtensorflow\u001b[0m\u001b[1;33m.\u001b[0m\u001b[0mpython\u001b[0m\u001b[1;33m.\u001b[0m\u001b[0mutil\u001b[0m \u001b[1;32mimport\u001b[0m \u001b[0mmodule_wrapper\u001b[0m \u001b[1;32mas\u001b[0m \u001b[0m_module_wrapper\u001b[0m\u001b[1;33m\u001b[0m\u001b[1;33m\u001b[0m\u001b[0m\n",
      "\u001b[1;32mc:\\users\\legio\\appdata\\local\\programs\\python\\python39\\lib\\site-packages\\keras\\api\\keras\\__internal__\\legacy\\layers\\__init__.py\u001b[0m in \u001b[0;36m<module>\u001b[1;34m\u001b[0m\n\u001b[0;32m      6\u001b[0m \u001b[1;32mimport\u001b[0m \u001b[0msys\u001b[0m \u001b[1;32mas\u001b[0m \u001b[0m_sys\u001b[0m\u001b[1;33m\u001b[0m\u001b[1;33m\u001b[0m\u001b[0m\n\u001b[0;32m      7\u001b[0m \u001b[1;33m\u001b[0m\u001b[0m\n\u001b[1;32m----> 8\u001b[1;33m \u001b[1;32mfrom\u001b[0m \u001b[0mkeras\u001b[0m\u001b[1;33m.\u001b[0m\u001b[0mapi\u001b[0m\u001b[1;33m.\u001b[0m\u001b[0mkeras\u001b[0m\u001b[1;33m.\u001b[0m\u001b[0m__internal__\u001b[0m\u001b[1;33m.\u001b[0m\u001b[0mlegacy\u001b[0m\u001b[1;33m.\u001b[0m\u001b[0mlayers\u001b[0m \u001b[1;32mimport\u001b[0m \u001b[0mexperimental\u001b[0m\u001b[1;33m\u001b[0m\u001b[1;33m\u001b[0m\u001b[0m\n\u001b[0m\u001b[0;32m      9\u001b[0m \u001b[1;32mfrom\u001b[0m \u001b[0mkeras\u001b[0m\u001b[1;33m.\u001b[0m\u001b[0mengine\u001b[0m\u001b[1;33m.\u001b[0m\u001b[0minput_spec\u001b[0m \u001b[1;32mimport\u001b[0m \u001b[0mInputSpec\u001b[0m\u001b[1;33m\u001b[0m\u001b[1;33m\u001b[0m\u001b[0m\n\u001b[0;32m     10\u001b[0m \u001b[1;32mfrom\u001b[0m \u001b[0mkeras\u001b[0m\u001b[1;33m.\u001b[0m\u001b[0mlegacy_tf_layers\u001b[0m\u001b[1;33m.\u001b[0m\u001b[0mbase\u001b[0m \u001b[1;32mimport\u001b[0m \u001b[0mLayer\u001b[0m\u001b[1;33m\u001b[0m\u001b[1;33m\u001b[0m\u001b[0m\n",
      "\u001b[1;32mc:\\users\\legio\\appdata\\local\\programs\\python\\python39\\lib\\site-packages\\keras\\api\\keras\\__internal__\\legacy\\layers\\experimental\\__init__.py\u001b[0m in \u001b[0;36m<module>\u001b[1;34m\u001b[0m\n\u001b[0;32m      6\u001b[0m \u001b[1;32mimport\u001b[0m \u001b[0msys\u001b[0m \u001b[1;32mas\u001b[0m \u001b[0m_sys\u001b[0m\u001b[1;33m\u001b[0m\u001b[1;33m\u001b[0m\u001b[0m\n\u001b[0;32m      7\u001b[0m \u001b[1;33m\u001b[0m\u001b[0m\n\u001b[1;32m----> 8\u001b[1;33m \u001b[1;32mfrom\u001b[0m \u001b[0mkeras\u001b[0m\u001b[1;33m.\u001b[0m\u001b[0mlegacy_tf_layers\u001b[0m\u001b[1;33m.\u001b[0m\u001b[0mbase\u001b[0m \u001b[1;32mimport\u001b[0m \u001b[0mkeras_style_scope\u001b[0m\u001b[1;33m\u001b[0m\u001b[1;33m\u001b[0m\u001b[0m\n\u001b[0m\u001b[0;32m      9\u001b[0m \u001b[1;32mfrom\u001b[0m \u001b[0mkeras\u001b[0m\u001b[1;33m.\u001b[0m\u001b[0mlegacy_tf_layers\u001b[0m\u001b[1;33m.\u001b[0m\u001b[0mbase\u001b[0m \u001b[1;32mimport\u001b[0m \u001b[0mset_keras_style\u001b[0m\u001b[1;33m\u001b[0m\u001b[1;33m\u001b[0m\u001b[0m\n\u001b[0;32m     10\u001b[0m \u001b[1;32mfrom\u001b[0m \u001b[0mtensorflow\u001b[0m\u001b[1;33m.\u001b[0m\u001b[0mpython\u001b[0m\u001b[1;33m.\u001b[0m\u001b[0mutil\u001b[0m \u001b[1;32mimport\u001b[0m \u001b[0mmodule_wrapper\u001b[0m \u001b[1;32mas\u001b[0m \u001b[0m_module_wrapper\u001b[0m\u001b[1;33m\u001b[0m\u001b[1;33m\u001b[0m\u001b[0m\n",
      "\u001b[1;32mc:\\users\\legio\\appdata\\local\\programs\\python\\python39\\lib\\site-packages\\keras\\legacy_tf_layers\\base.py\u001b[0m in \u001b[0;36m<module>\u001b[1;34m\u001b[0m\n\u001b[0;32m     26\u001b[0m \u001b[1;32mfrom\u001b[0m \u001b[0mkeras\u001b[0m\u001b[1;33m.\u001b[0m\u001b[0mengine\u001b[0m \u001b[1;32mimport\u001b[0m \u001b[0mbase_layer\u001b[0m\u001b[1;33m\u001b[0m\u001b[1;33m\u001b[0m\u001b[0m\n\u001b[0;32m     27\u001b[0m \u001b[1;32mfrom\u001b[0m \u001b[0mkeras\u001b[0m\u001b[1;33m.\u001b[0m\u001b[0mengine\u001b[0m \u001b[1;32mimport\u001b[0m \u001b[0mbase_layer_utils\u001b[0m\u001b[1;33m\u001b[0m\u001b[1;33m\u001b[0m\u001b[0m\n\u001b[1;32m---> 28\u001b[1;33m \u001b[1;32mfrom\u001b[0m \u001b[0mkeras\u001b[0m\u001b[1;33m.\u001b[0m\u001b[0mlegacy_tf_layers\u001b[0m \u001b[1;32mimport\u001b[0m \u001b[0mvariable_scope_shim\u001b[0m\u001b[1;33m\u001b[0m\u001b[1;33m\u001b[0m\u001b[0m\n\u001b[0m\u001b[0;32m     29\u001b[0m \u001b[1;32mfrom\u001b[0m \u001b[0mkeras\u001b[0m\u001b[1;33m.\u001b[0m\u001b[0mmixed_precision\u001b[0m \u001b[1;32mimport\u001b[0m \u001b[0mpolicy\u001b[0m\u001b[1;33m\u001b[0m\u001b[1;33m\u001b[0m\u001b[0m\n\u001b[0;32m     30\u001b[0m \u001b[1;32mfrom\u001b[0m \u001b[0mkeras\u001b[0m\u001b[1;33m.\u001b[0m\u001b[0mutils\u001b[0m \u001b[1;32mimport\u001b[0m \u001b[0mtf_contextlib\u001b[0m\u001b[1;33m\u001b[0m\u001b[1;33m\u001b[0m\u001b[0m\n",
      "\u001b[1;32mc:\\users\\legio\\appdata\\local\\programs\\python\\python39\\lib\\importlib\\_bootstrap.py\u001b[0m in \u001b[0;36m_find_and_load\u001b[1;34m(name, import_)\u001b[0m\n",
      "\u001b[1;32mc:\\users\\legio\\appdata\\local\\programs\\python\\python39\\lib\\importlib\\_bootstrap.py\u001b[0m in \u001b[0;36m_find_and_load_unlocked\u001b[1;34m(name, import_)\u001b[0m\n",
      "\u001b[1;32mc:\\users\\legio\\appdata\\local\\programs\\python\\python39\\lib\\importlib\\_bootstrap.py\u001b[0m in \u001b[0;36m_load_unlocked\u001b[1;34m(spec)\u001b[0m\n",
      "\u001b[1;32mc:\\users\\legio\\appdata\\local\\programs\\python\\python39\\lib\\importlib\\_bootstrap_external.py\u001b[0m in \u001b[0;36mexec_module\u001b[1;34m(self, module)\u001b[0m\n",
      "\u001b[1;32mc:\\users\\legio\\appdata\\local\\programs\\python\\python39\\lib\\importlib\\_bootstrap_external.py\u001b[0m in \u001b[0;36mget_code\u001b[1;34m(self, fullname)\u001b[0m\n",
      "\u001b[1;32mc:\\users\\legio\\appdata\\local\\programs\\python\\python39\\lib\\importlib\\_bootstrap_external.py\u001b[0m in \u001b[0;36mget_data\u001b[1;34m(self, path)\u001b[0m\n",
      "\u001b[1;31mKeyboardInterrupt\u001b[0m: "
     ]
    }
   ],
   "source": [
    "# Importing reqlibraries\n",
    "import pandas as pd\n",
    "import tensorflow as tf\n",
    "from tensorflow import keras\n",
    "from keras.models import Sequential\n",
    "from keras.models import Model\n",
    "from keras.layers import Input, Dense, Activation, Flatten, Conv2D, MaxPool2D, Dropout\n",
    "from keras.optimizers import Adam \n",
    "from keras.preprocessing.image import ImageDataGenerator\n",
    "from keras.losses import binary_crossentropy\n",
    "from keras import metrics\n",
    "from sklearn.metrics import classification_report, confusion_matrix, plot_confusion_matrix, ConfusionMatrixDisplay\n",
    "from keras.callbacks import ModelCheckpoint\n",
    "from keras.callbacks import EarlyStopping\n",
    "from keras.optimizers import RMSprop\n",
    "import numpy as np\n",
    "import matplotlib.pyplot as plt"
   ]
  },
  {
   "cell_type": "code",
   "execution_count": null,
   "id": "9872a6fc",
   "metadata": {
    "execution": {
     "iopub.execute_input": "2023-03-01T21:10:30.401972Z",
     "iopub.status.busy": "2023-03-01T21:10:30.401331Z",
     "iopub.status.idle": "2023-03-01T21:10:34.641623Z",
     "shell.execute_reply": "2023-03-01T21:10:34.640637Z"
    },
    "papermill": {
     "duration": 4.248293,
     "end_time": "2023-03-01T21:10:34.644519",
     "exception": false,
     "start_time": "2023-03-01T21:10:30.396226",
     "status": "completed"
    },
    "tags": []
   },
   "outputs": [],
   "source": [
    "import os\n",
    "for dirname, _, filenames in os.walk('/kaggle/input'):\n",
    "    for filename in filenames:\n",
    "        print(os.path.join(dirname, filename))"
   ]
  },
  {
   "cell_type": "code",
   "execution_count": 4,
   "id": "c323df5e",
   "metadata": {
    "execution": {
     "iopub.execute_input": "2023-03-01T21:10:34.670497Z",
     "iopub.status.busy": "2023-03-01T21:10:34.670175Z",
     "iopub.status.idle": "2023-03-01T21:10:34.674962Z",
     "shell.execute_reply": "2023-03-01T21:10:34.673838Z"
    },
    "papermill": {
     "duration": 0.019161,
     "end_time": "2023-03-01T21:10:34.677373",
     "exception": false,
     "start_time": "2023-03-01T21:10:34.658212",
     "status": "completed"
    },
    "tags": []
   },
   "outputs": [],
   "source": [
    "train_loc = \"braintumour\\Training/\"\n",
    "test_loc =  \"braintumour\\Testing/\""
   ]
  },
  {
   "cell_type": "code",
   "execution_count": 5,
   "id": "ab0c7ab0",
   "metadata": {
    "execution": {
     "iopub.execute_input": "2023-03-01T21:10:34.700370Z",
     "iopub.status.busy": "2023-03-01T21:10:34.699779Z",
     "iopub.status.idle": "2023-03-01T21:10:35.161916Z",
     "shell.execute_reply": "2023-03-01T21:10:35.160796Z"
    },
    "papermill": {
     "duration": 0.476496,
     "end_time": "2023-03-01T21:10:35.164430",
     "exception": false,
     "start_time": "2023-03-01T21:10:34.687934",
     "status": "completed"
    },
    "tags": []
   },
   "outputs": [
    {
     "ename": "NameError",
     "evalue": "name 'ImageDataGenerator' is not defined",
     "output_type": "error",
     "traceback": [
      "\u001b[1;31m---------------------------------------------------------------------------\u001b[0m",
      "\u001b[1;31mNameError\u001b[0m                                 Traceback (most recent call last)",
      "\u001b[1;32m~\\AppData\\Local\\Temp/ipykernel_23020/1229579981.py\u001b[0m in \u001b[0;36m<module>\u001b[1;34m\u001b[0m\n\u001b[1;32m----> 1\u001b[1;33m data = ImageDataGenerator(rescale= 1./255,\n\u001b[0m\u001b[0;32m      2\u001b[0m                           \u001b[0mshear_range\u001b[0m \u001b[1;33m=\u001b[0m \u001b[1;36m0.2\u001b[0m\u001b[1;33m,\u001b[0m\u001b[1;33m\u001b[0m\u001b[1;33m\u001b[0m\u001b[0m\n\u001b[0;32m      3\u001b[0m                           \u001b[0mzoom_range\u001b[0m \u001b[1;33m=\u001b[0m \u001b[1;36m0.2\u001b[0m\u001b[1;33m,\u001b[0m\u001b[1;33m\u001b[0m\u001b[1;33m\u001b[0m\u001b[0m\n\u001b[0;32m      4\u001b[0m                           \u001b[0mhorizontal_flip\u001b[0m \u001b[1;33m=\u001b[0m \u001b[1;32mTrue\u001b[0m\u001b[1;33m,\u001b[0m\u001b[1;33m\u001b[0m\u001b[1;33m\u001b[0m\u001b[0m\n\u001b[0;32m      5\u001b[0m                           \u001b[0mwidth_shift_range\u001b[0m\u001b[1;33m=\u001b[0m\u001b[1;36m0.2\u001b[0m\u001b[1;33m,\u001b[0m\u001b[1;33m\u001b[0m\u001b[1;33m\u001b[0m\u001b[0m\n",
      "\u001b[1;31mNameError\u001b[0m: name 'ImageDataGenerator' is not defined"
     ]
    }
   ],
   "source": [
    "data = ImageDataGenerator(rescale= 1./255,\n",
    "                          shear_range = 0.2,\n",
    "                          zoom_range = 0.2,\n",
    "                          horizontal_flip = True,\n",
    "                          width_shift_range=0.2, \n",
    "                          height_shift_range=0.2,\n",
    "                          rotation_range=30)\n",
    "\n",
    "train_data = data.flow_from_directory(directory = train_loc, \n",
    "                                       target_size = (224,224),\n",
    "                                      )\n"
   ]
  },
  {
   "cell_type": "code",
   "execution_count": 5,
   "id": "fd6b17db",
   "metadata": {
    "execution": {
     "iopub.execute_input": "2023-03-01T21:10:35.189658Z",
     "iopub.status.busy": "2023-03-01T21:10:35.188648Z",
     "iopub.status.idle": "2023-03-01T21:10:35.299240Z",
     "shell.execute_reply": "2023-03-01T21:10:35.298052Z"
    },
    "papermill": {
     "duration": 0.125342,
     "end_time": "2023-03-01T21:10:35.302036",
     "exception": false,
     "start_time": "2023-03-01T21:10:35.176694",
     "status": "completed"
    },
    "tags": []
   },
   "outputs": [
    {
     "name": "stdout",
     "output_type": "stream",
     "text": [
      "Found 1311 images belonging to 4 classes.\n"
     ]
    }
   ],
   "source": [
    "data = ImageDataGenerator(rescale= 1./255,\n",
    "                          shear_range = 0.2,\n",
    "                          zoom_range = 0.2,\n",
    "                          horizontal_flip = True,\n",
    "                          width_shift_range=0.2, \n",
    "                          height_shift_range=0.2,\n",
    "                          rotation_range=30\n",
    ")\n",
    "\n",
    "test_data = data.flow_from_directory(directory = test_loc, \n",
    "                                       target_size = (224,224),\n",
    "                                      )"
   ]
  },
  {
   "cell_type": "code",
   "execution_count": 6,
   "id": "502d8a64",
   "metadata": {
    "execution": {
     "iopub.execute_input": "2023-03-01T21:10:35.328801Z",
     "iopub.status.busy": "2023-03-01T21:10:35.328445Z",
     "iopub.status.idle": "2023-03-01T21:10:35.336614Z",
     "shell.execute_reply": "2023-03-01T21:10:35.335470Z"
    },
    "papermill": {
     "duration": 0.024228,
     "end_time": "2023-03-01T21:10:35.338968",
     "exception": false,
     "start_time": "2023-03-01T21:10:35.314740",
     "status": "completed"
    },
    "tags": []
   },
   "outputs": [
    {
     "data": {
      "text/plain": [
       "{'glioma': 0, 'meningioma': 1, 'notumor': 2, 'pituitary': 3}"
      ]
     },
     "execution_count": 6,
     "metadata": {},
     "output_type": "execute_result"
    }
   ],
   "source": [
    "train_data.class_indices"
   ]
  },
  {
   "cell_type": "code",
   "execution_count": 7,
   "id": "12528e6c",
   "metadata": {
    "execution": {
     "iopub.execute_input": "2023-03-01T21:10:35.365899Z",
     "iopub.status.busy": "2023-03-01T21:10:35.364978Z",
     "iopub.status.idle": "2023-03-01T21:10:35.372581Z",
     "shell.execute_reply": "2023-03-01T21:10:35.371381Z"
    },
    "papermill": {
     "duration": 0.023488,
     "end_time": "2023-03-01T21:10:35.374852",
     "exception": false,
     "start_time": "2023-03-01T21:10:35.351364",
     "status": "completed"
    },
    "tags": []
   },
   "outputs": [
    {
     "data": {
      "text/plain": [
       "{'glioma': 0, 'meningioma': 1, 'notumor': 2, 'pituitary': 3}"
      ]
     },
     "execution_count": 7,
     "metadata": {},
     "output_type": "execute_result"
    }
   ],
   "source": [
    "test_data.class_indices"
   ]
  },
  {
   "cell_type": "code",
   "execution_count": 8,
   "id": "02f9775b",
   "metadata": {
    "execution": {
     "iopub.execute_input": "2023-03-01T21:10:35.401324Z",
     "iopub.status.busy": "2023-03-01T21:10:35.400341Z",
     "iopub.status.idle": "2023-03-01T21:10:35.406512Z",
     "shell.execute_reply": "2023-03-01T21:10:35.405260Z"
    },
    "papermill": {
     "duration": 0.022704,
     "end_time": "2023-03-01T21:10:35.409232",
     "exception": false,
     "start_time": "2023-03-01T21:10:35.386528",
     "status": "completed"
    },
    "tags": []
   },
   "outputs": [],
   "source": [
    "input_shape = (224,224,3)"
   ]
  },
  {
   "cell_type": "code",
   "execution_count": 9,
   "id": "93f2e60e",
   "metadata": {
    "execution": {
     "iopub.execute_input": "2023-03-01T21:10:35.442923Z",
     "iopub.status.busy": "2023-03-01T21:10:35.442554Z",
     "iopub.status.idle": "2023-03-01T21:10:38.137787Z",
     "shell.execute_reply": "2023-03-01T21:10:38.136806Z"
    },
    "papermill": {
     "duration": 2.712417,
     "end_time": "2023-03-01T21:10:38.140545",
     "exception": false,
     "start_time": "2023-03-01T21:10:35.428128",
     "status": "completed"
    },
    "tags": []
   },
   "outputs": [],
   "source": [
    "# CNN Model\n",
    "\n",
    "# Input Layer\n",
    "image_imput = Input(shape  = input_shape, name = 'image_input')\n",
    "\n",
    "# First Layer\n",
    "my_model = Conv2D(256, (3,3) , padding = 'same' , activation='relu', name = 'layer_1') (image_imput)\n",
    "my_model = Conv2D(64, (3,3) , padding = 'same' , activation='relu', name = 'layer_2') (my_model)\n",
    "my_model = MaxPool2D((2,2), strides=(2,2), name = 'layer_3') (my_model)\n",
    "my_model = Dropout(0.25)(my_model)\n",
    "\n",
    "# Second Layer\n",
    "my_model = Conv2D(128, (3,3) , padding = 'same' , activation='relu', name = 'layer_4') (my_model)\n",
    "my_model = MaxPool2D((2,2), strides=(2,2), name = 'layer_5') (my_model)\n",
    "my_model = Dropout(0.25)(my_model)\n",
    "\n",
    "# Third Layer\n",
    "my_model = Conv2D(128, (3,3) , padding = 'same' , activation='relu', name = 'layer_6') (my_model)\n",
    "my_model = MaxPool2D((2,2), strides=(2,2), name = 'layer_7') (my_model)\n",
    "my_model = Dropout(0.25)(my_model)\n",
    "\n",
    "# Forth Layer\n",
    "my_model = Conv2D(64, (3,3) , padding = 'same' , activation='relu') (my_model)\n",
    "my_model = MaxPool2D((2,2), strides=(2,2)) (my_model)\n",
    "my_model = Dropout(0.25)(my_model)\n",
    "\n",
    "# Connented Layer and Output Layer\n",
    "my_model = Flatten()(my_model)\n",
    "my_model = Dense(32, name = 'layer_8')(my_model)\n",
    "my_model = Dropout(0.5) (my_model)\n",
    "my_model = Dense(4, activation='sigmoid', name='predictions')(my_model)"
   ]
  },
  {
   "cell_type": "code",
   "execution_count": 10,
   "id": "de8491d7",
   "metadata": {
    "execution": {
     "iopub.execute_input": "2023-03-01T21:10:38.165990Z",
     "iopub.status.busy": "2023-03-01T21:10:38.164217Z",
     "iopub.status.idle": "2023-03-01T21:10:38.176026Z",
     "shell.execute_reply": "2023-03-01T21:10:38.175096Z"
    },
    "papermill": {
     "duration": 0.026243,
     "end_time": "2023-03-01T21:10:38.178229",
     "exception": false,
     "start_time": "2023-03-01T21:10:38.151986",
     "status": "completed"
    },
    "tags": []
   },
   "outputs": [],
   "source": [
    "# Generate the model\n",
    "model = Model(inputs = image_imput, outputs =my_model , name='Brain_Tumer')"
   ]
  },
  {
   "cell_type": "code",
   "execution_count": 11,
   "id": "d74b4481",
   "metadata": {
    "execution": {
     "iopub.execute_input": "2023-03-01T21:10:38.202334Z",
     "iopub.status.busy": "2023-03-01T21:10:38.201714Z",
     "iopub.status.idle": "2023-03-01T21:10:38.251117Z",
     "shell.execute_reply": "2023-03-01T21:10:38.250185Z"
    },
    "papermill": {
     "duration": 0.085843,
     "end_time": "2023-03-01T21:10:38.275508",
     "exception": false,
     "start_time": "2023-03-01T21:10:38.189665",
     "status": "completed"
    },
    "tags": []
   },
   "outputs": [
    {
     "name": "stdout",
     "output_type": "stream",
     "text": [
      "Model: \"Brain_Tumer\"\n",
      "_________________________________________________________________\n",
      " Layer (type)                Output Shape              Param #   \n",
      "=================================================================\n",
      " image_input (InputLayer)    [(None, 224, 224, 3)]     0         \n",
      "                                                                 \n",
      " layer_1 (Conv2D)            (None, 224, 224, 256)     7168      \n",
      "                                                                 \n",
      " layer_2 (Conv2D)            (None, 224, 224, 64)      147520    \n",
      "                                                                 \n",
      " layer_3 (MaxPooling2D)      (None, 112, 112, 64)      0         \n",
      "                                                                 \n",
      " dropout (Dropout)           (None, 112, 112, 64)      0         \n",
      "                                                                 \n",
      " layer_4 (Conv2D)            (None, 112, 112, 128)     73856     \n",
      "                                                                 \n",
      " layer_5 (MaxPooling2D)      (None, 56, 56, 128)       0         \n",
      "                                                                 \n",
      " dropout_1 (Dropout)         (None, 56, 56, 128)       0         \n",
      "                                                                 \n",
      " layer_6 (Conv2D)            (None, 56, 56, 128)       147584    \n",
      "                                                                 \n",
      " layer_7 (MaxPooling2D)      (None, 28, 28, 128)       0         \n",
      "                                                                 \n",
      " dropout_2 (Dropout)         (None, 28, 28, 128)       0         \n",
      "                                                                 \n",
      " conv2d (Conv2D)             (None, 28, 28, 64)        73792     \n",
      "                                                                 \n",
      " max_pooling2d (MaxPooling2D  (None, 14, 14, 64)       0         \n",
      " )                                                               \n",
      "                                                                 \n",
      " dropout_3 (Dropout)         (None, 14, 14, 64)        0         \n",
      "                                                                 \n",
      " flatten (Flatten)           (None, 12544)             0         \n",
      "                                                                 \n",
      " layer_8 (Dense)             (None, 32)                401440    \n",
      "                                                                 \n",
      " dropout_4 (Dropout)         (None, 32)                0         \n",
      "                                                                 \n",
      " predictions (Dense)         (None, 4)                 132       \n",
      "                                                                 \n",
      "=================================================================\n",
      "Total params: 851,492\n",
      "Trainable params: 851,492\n",
      "Non-trainable params: 0\n",
      "_________________________________________________________________\n"
     ]
    }
   ],
   "source": [
    "model.summary()"
   ]
  },
  {
   "cell_type": "code",
   "execution_count": 12,
   "id": "de18d751",
   "metadata": {
    "execution": {
     "iopub.execute_input": "2023-03-01T21:10:38.302988Z",
     "iopub.status.busy": "2023-03-01T21:10:38.302661Z",
     "iopub.status.idle": "2023-03-01T21:10:38.319091Z",
     "shell.execute_reply": "2023-03-01T21:10:38.318223Z"
    },
    "papermill": {
     "duration": 0.032639,
     "end_time": "2023-03-01T21:10:38.321234",
     "exception": false,
     "start_time": "2023-03-01T21:10:38.288595",
     "status": "completed"
    },
    "tags": []
   },
   "outputs": [],
   "source": [
    "# Compiling the model\n",
    "model.compile(optimizer='adam', loss='categorical_crossentropy', metrics=['accuracy'])"
   ]
  },
  {
   "cell_type": "code",
   "execution_count": 13,
   "id": "a84bc285",
   "metadata": {
    "execution": {
     "iopub.execute_input": "2023-03-01T21:10:38.349738Z",
     "iopub.status.busy": "2023-03-01T21:10:38.348869Z",
     "iopub.status.idle": "2023-03-02T00:41:11.961954Z",
     "shell.execute_reply": "2023-03-02T00:41:11.959801Z"
    },
    "papermill": {
     "duration": 12634.592063,
     "end_time": "2023-03-02T00:41:12.926237",
     "exception": false,
     "start_time": "2023-03-01T21:10:38.334174",
     "status": "completed"
    },
    "tags": []
   },
   "outputs": [
    {
     "name": "stdout",
     "output_type": "stream",
     "text": [
      "Epoch 1/100\n"
     ]
    },
    {
     "name": "stderr",
     "output_type": "stream",
     "text": [
      "2023-03-01 21:10:40.337160: E tensorflow/core/grappler/optimizers/meta_optimizer.cc:954] layout failed: INVALID_ARGUMENT: Size of values 0 does not match size of permutation 4 @ fanin shape inBrain_Tumer/dropout/dropout/SelectV2-2-TransposeNHWCToNCHW-LayoutOptimizer\n"
     ]
    },
    {
     "name": "stdout",
     "output_type": "stream",
     "text": [
      "178/178 [==============================] - 145s 756ms/step - loss: 1.1627 - accuracy: 0.4484 - val_loss: 1.2003 - val_accuracy: 0.4703\n",
      "Epoch 2/100\n",
      "178/178 [==============================] - 113s 632ms/step - loss: 1.0139 - accuracy: 0.5581 - val_loss: 1.0395 - val_accuracy: 0.5758\n",
      "Epoch 3/100\n",
      "178/178 [==============================] - 112s 627ms/step - loss: 0.9288 - accuracy: 0.5998 - val_loss: 1.0432 - val_accuracy: 0.5805\n",
      "Epoch 4/100\n",
      "178/178 [==============================] - 114s 641ms/step - loss: 0.9081 - accuracy: 0.6148 - val_loss: 0.9689 - val_accuracy: 0.6078\n",
      "Epoch 5/100\n",
      "178/178 [==============================] - 111s 621ms/step - loss: 0.8378 - accuracy: 0.6532 - val_loss: 0.8376 - val_accuracy: 0.6672\n",
      "Epoch 6/100\n",
      "178/178 [==============================] - 113s 637ms/step - loss: 0.7849 - accuracy: 0.6805 - val_loss: 0.7792 - val_accuracy: 0.6750\n",
      "Epoch 7/100\n",
      "178/178 [==============================] - 114s 637ms/step - loss: 0.7189 - accuracy: 0.7192 - val_loss: 0.7413 - val_accuracy: 0.6961\n",
      "Epoch 8/100\n",
      "178/178 [==============================] - 112s 629ms/step - loss: 0.6606 - accuracy: 0.7444 - val_loss: 0.7013 - val_accuracy: 0.7094\n",
      "Epoch 9/100\n",
      "178/178 [==============================] - 114s 639ms/step - loss: 0.6198 - accuracy: 0.7650 - val_loss: 0.7132 - val_accuracy: 0.7125\n",
      "Epoch 10/100\n",
      "178/178 [==============================] - 114s 642ms/step - loss: 0.5926 - accuracy: 0.7764 - val_loss: 0.7498 - val_accuracy: 0.6859\n",
      "Epoch 11/100\n",
      "178/178 [==============================] - 110s 616ms/step - loss: 0.5585 - accuracy: 0.7859 - val_loss: 0.6519 - val_accuracy: 0.7516\n",
      "Epoch 12/100\n",
      "178/178 [==============================] - 110s 617ms/step - loss: 0.5340 - accuracy: 0.8018 - val_loss: 0.5742 - val_accuracy: 0.7523\n",
      "Epoch 13/100\n",
      "178/178 [==============================] - 106s 596ms/step - loss: 0.5300 - accuracy: 0.8030 - val_loss: 0.5813 - val_accuracy: 0.7812\n",
      "Epoch 14/100\n",
      "178/178 [==============================] - 109s 614ms/step - loss: 0.4983 - accuracy: 0.8153 - val_loss: 0.6435 - val_accuracy: 0.7445\n",
      "Epoch 15/100\n",
      "178/178 [==============================] - 111s 622ms/step - loss: 0.4857 - accuracy: 0.8259 - val_loss: 0.5086 - val_accuracy: 0.7914\n",
      "Epoch 16/100\n",
      "178/178 [==============================] - 109s 611ms/step - loss: 0.4699 - accuracy: 0.8278 - val_loss: 0.5339 - val_accuracy: 0.7914\n",
      "Epoch 17/100\n",
      "178/178 [==============================] - 109s 612ms/step - loss: 0.4627 - accuracy: 0.8312 - val_loss: 0.6200 - val_accuracy: 0.7437\n",
      "Epoch 18/100\n",
      "178/178 [==============================] - 105s 591ms/step - loss: 0.4643 - accuracy: 0.8298 - val_loss: 0.6320 - val_accuracy: 0.7477\n",
      "Epoch 19/100\n",
      "178/178 [==============================] - 109s 610ms/step - loss: 0.4464 - accuracy: 0.8359 - val_loss: 0.5732 - val_accuracy: 0.7594\n",
      "Epoch 20/100\n",
      "178/178 [==============================] - 110s 615ms/step - loss: 0.4428 - accuracy: 0.8419 - val_loss: 0.5328 - val_accuracy: 0.8047\n",
      "Epoch 21/100\n",
      "178/178 [==============================] - 109s 613ms/step - loss: 0.4174 - accuracy: 0.8433 - val_loss: 0.5020 - val_accuracy: 0.8078\n",
      "Epoch 22/100\n",
      "178/178 [==============================] - 108s 609ms/step - loss: 0.4145 - accuracy: 0.8470 - val_loss: 0.5226 - val_accuracy: 0.8094\n",
      "Epoch 23/100\n",
      "178/178 [==============================] - 109s 610ms/step - loss: 0.4111 - accuracy: 0.8549 - val_loss: 0.4555 - val_accuracy: 0.8133\n",
      "Epoch 24/100\n",
      "178/178 [==============================] - 109s 612ms/step - loss: 0.4018 - accuracy: 0.8544 - val_loss: 0.4464 - val_accuracy: 0.8336\n",
      "Epoch 25/100\n",
      "178/178 [==============================] - 109s 610ms/step - loss: 0.3853 - accuracy: 0.8604 - val_loss: 0.5204 - val_accuracy: 0.7922\n",
      "Epoch 26/100\n",
      "178/178 [==============================] - 106s 593ms/step - loss: 0.4010 - accuracy: 0.8558 - val_loss: 0.4531 - val_accuracy: 0.8195\n",
      "Epoch 27/100\n",
      "178/178 [==============================] - 108s 607ms/step - loss: 0.3913 - accuracy: 0.8616 - val_loss: 0.5008 - val_accuracy: 0.8023\n",
      "Epoch 28/100\n",
      "178/178 [==============================] - 110s 615ms/step - loss: 0.3795 - accuracy: 0.8641 - val_loss: 0.4925 - val_accuracy: 0.7977\n",
      "Epoch 29/100\n",
      "178/178 [==============================] - 106s 593ms/step - loss: 0.3823 - accuracy: 0.8625 - val_loss: 0.4675 - val_accuracy: 0.8188\n",
      "Epoch 30/100\n",
      "178/178 [==============================] - 105s 586ms/step - loss: 0.3543 - accuracy: 0.8695 - val_loss: 0.4943 - val_accuracy: 0.8055\n",
      "Epoch 31/100\n",
      "178/178 [==============================] - 110s 620ms/step - loss: 0.3439 - accuracy: 0.8748 - val_loss: 0.3926 - val_accuracy: 0.8445\n",
      "Epoch 32/100\n",
      "178/178 [==============================] - 109s 611ms/step - loss: 0.3324 - accuracy: 0.8838 - val_loss: 0.4172 - val_accuracy: 0.8422\n",
      "Epoch 33/100\n",
      "178/178 [==============================] - 109s 613ms/step - loss: 0.3382 - accuracy: 0.8822 - val_loss: 0.4157 - val_accuracy: 0.8484\n",
      "Epoch 34/100\n",
      "178/178 [==============================] - 104s 585ms/step - loss: 0.3276 - accuracy: 0.8849 - val_loss: 0.4622 - val_accuracy: 0.8211\n",
      "Epoch 35/100\n",
      "178/178 [==============================] - 109s 611ms/step - loss: 0.3430 - accuracy: 0.8778 - val_loss: 0.4532 - val_accuracy: 0.8281\n",
      "Epoch 36/100\n",
      "178/178 [==============================] - 109s 613ms/step - loss: 0.3331 - accuracy: 0.8780 - val_loss: 0.3984 - val_accuracy: 0.8484\n",
      "Epoch 37/100\n",
      "178/178 [==============================] - 109s 613ms/step - loss: 0.3171 - accuracy: 0.8912 - val_loss: 0.3914 - val_accuracy: 0.8484\n",
      "Epoch 38/100\n",
      "178/178 [==============================] - 109s 612ms/step - loss: 0.2989 - accuracy: 0.8933 - val_loss: 0.4331 - val_accuracy: 0.8477\n",
      "Epoch 39/100\n",
      "178/178 [==============================] - 109s 611ms/step - loss: 0.3117 - accuracy: 0.8889 - val_loss: 0.4006 - val_accuracy: 0.8438\n",
      "Epoch 40/100\n",
      "178/178 [==============================] - 110s 616ms/step - loss: 0.3023 - accuracy: 0.8942 - val_loss: 0.3297 - val_accuracy: 0.8820\n",
      "Epoch 41/100\n",
      "178/178 [==============================] - 106s 592ms/step - loss: 0.3032 - accuracy: 0.8933 - val_loss: 0.3369 - val_accuracy: 0.8766\n",
      "Epoch 42/100\n",
      "178/178 [==============================] - 109s 613ms/step - loss: 0.2894 - accuracy: 0.8984 - val_loss: 0.4162 - val_accuracy: 0.8508\n",
      "Epoch 43/100\n",
      "178/178 [==============================] - 109s 612ms/step - loss: 0.2983 - accuracy: 0.8970 - val_loss: 0.4263 - val_accuracy: 0.8438\n",
      "Epoch 44/100\n",
      "178/178 [==============================] - 110s 614ms/step - loss: 0.2911 - accuracy: 0.9012 - val_loss: 0.3280 - val_accuracy: 0.8719\n",
      "Epoch 45/100\n",
      "178/178 [==============================] - 110s 617ms/step - loss: 0.2869 - accuracy: 0.9005 - val_loss: 0.3231 - val_accuracy: 0.8734\n",
      "Epoch 46/100\n",
      "178/178 [==============================] - 110s 616ms/step - loss: 0.2859 - accuracy: 0.9012 - val_loss: 0.3290 - val_accuracy: 0.8734\n",
      "Epoch 47/100\n",
      "178/178 [==============================] - 110s 613ms/step - loss: 0.2706 - accuracy: 0.9092 - val_loss: 0.3673 - val_accuracy: 0.8594\n",
      "Epoch 48/100\n",
      "178/178 [==============================] - 109s 613ms/step - loss: 0.2701 - accuracy: 0.9102 - val_loss: 0.3194 - val_accuracy: 0.8820\n",
      "Epoch 49/100\n",
      "178/178 [==============================] - 110s 615ms/step - loss: 0.2800 - accuracy: 0.8995 - val_loss: 0.3209 - val_accuracy: 0.8836\n",
      "Epoch 50/100\n",
      "178/178 [==============================] - 110s 615ms/step - loss: 0.2690 - accuracy: 0.9058 - val_loss: 0.3580 - val_accuracy: 0.8742\n",
      "Epoch 51/100\n",
      "178/178 [==============================] - 110s 616ms/step - loss: 0.2475 - accuracy: 0.9155 - val_loss: 0.3994 - val_accuracy: 0.8602\n",
      "Epoch 52/100\n",
      "178/178 [==============================] - 110s 617ms/step - loss: 0.2557 - accuracy: 0.9158 - val_loss: 0.3643 - val_accuracy: 0.8687\n",
      "Epoch 53/100\n",
      "178/178 [==============================] - 110s 618ms/step - loss: 0.2514 - accuracy: 0.9107 - val_loss: 0.2897 - val_accuracy: 0.8938\n",
      "Epoch 54/100\n",
      "178/178 [==============================] - 106s 595ms/step - loss: 0.2343 - accuracy: 0.9192 - val_loss: 0.3368 - val_accuracy: 0.8750\n",
      "Epoch 55/100\n",
      "178/178 [==============================] - 106s 594ms/step - loss: 0.2575 - accuracy: 0.9123 - val_loss: 0.2956 - val_accuracy: 0.8945\n",
      "Epoch 56/100\n",
      "178/178 [==============================] - 110s 615ms/step - loss: 0.2414 - accuracy: 0.9167 - val_loss: 0.3585 - val_accuracy: 0.8797\n",
      "Epoch 57/100\n",
      "178/178 [==============================] - 110s 614ms/step - loss: 0.2370 - accuracy: 0.9160 - val_loss: 0.2552 - val_accuracy: 0.9008\n",
      "Epoch 58/100\n",
      "178/178 [==============================] - 110s 614ms/step - loss: 0.2370 - accuracy: 0.9199 - val_loss: 0.2741 - val_accuracy: 0.9039\n",
      "Epoch 59/100\n",
      "178/178 [==============================] - 110s 616ms/step - loss: 0.2296 - accuracy: 0.9158 - val_loss: 0.2580 - val_accuracy: 0.9039\n",
      "Epoch 60/100\n",
      "178/178 [==============================] - 109s 610ms/step - loss: 0.2355 - accuracy: 0.9169 - val_loss: 0.3179 - val_accuracy: 0.8883\n",
      "Epoch 61/100\n",
      "178/178 [==============================] - 109s 612ms/step - loss: 0.2317 - accuracy: 0.9171 - val_loss: 0.2640 - val_accuracy: 0.9102\n",
      "Epoch 62/100\n",
      "178/178 [==============================] - 110s 614ms/step - loss: 0.2235 - accuracy: 0.9255 - val_loss: 0.3117 - val_accuracy: 0.8813\n",
      "Epoch 63/100\n",
      "178/178 [==============================] - 109s 613ms/step - loss: 0.2162 - accuracy: 0.9248 - val_loss: 0.2593 - val_accuracy: 0.9055\n",
      "Epoch 64/100\n",
      "178/178 [==============================] - 110s 615ms/step - loss: 0.2197 - accuracy: 0.9204 - val_loss: 0.3876 - val_accuracy: 0.8727\n",
      "Epoch 65/100\n",
      "178/178 [==============================] - 109s 611ms/step - loss: 0.2351 - accuracy: 0.9187 - val_loss: 0.3382 - val_accuracy: 0.8875\n",
      "Epoch 66/100\n",
      "178/178 [==============================] - 106s 595ms/step - loss: 0.2126 - accuracy: 0.9243 - val_loss: 0.2356 - val_accuracy: 0.9133\n",
      "Epoch 67/100\n",
      "178/178 [==============================] - 106s 593ms/step - loss: 0.2244 - accuracy: 0.9264 - val_loss: 0.3007 - val_accuracy: 0.8773\n",
      "Epoch 68/100\n",
      "178/178 [==============================] - 106s 592ms/step - loss: 0.2106 - accuracy: 0.9241 - val_loss: 0.3847 - val_accuracy: 0.8883\n",
      "Epoch 69/100\n",
      "178/178 [==============================] - 110s 614ms/step - loss: 0.2165 - accuracy: 0.9238 - val_loss: 0.2971 - val_accuracy: 0.8844\n",
      "Epoch 70/100\n",
      "178/178 [==============================] - 105s 590ms/step - loss: 0.1988 - accuracy: 0.9326 - val_loss: 0.2362 - val_accuracy: 0.9148\n",
      "Epoch 71/100\n",
      "178/178 [==============================] - 106s 595ms/step - loss: 0.2038 - accuracy: 0.9292 - val_loss: 0.2584 - val_accuracy: 0.9078\n",
      "Epoch 72/100\n",
      "178/178 [==============================] - 110s 618ms/step - loss: 0.1894 - accuracy: 0.9352 - val_loss: 0.2530 - val_accuracy: 0.9219\n",
      "Epoch 73/100\n",
      "178/178 [==============================] - 107s 599ms/step - loss: 0.2095 - accuracy: 0.9254 - val_loss: 0.2608 - val_accuracy: 0.9102\n",
      "Epoch 74/100\n",
      "178/178 [==============================] - 110s 615ms/step - loss: 0.2088 - accuracy: 0.9273 - val_loss: 0.2578 - val_accuracy: 0.9156\n",
      "Epoch 75/100\n",
      "178/178 [==============================] - 108s 604ms/step - loss: 0.1969 - accuracy: 0.9324 - val_loss: 0.2926 - val_accuracy: 0.8930\n",
      "Epoch 76/100\n",
      "178/178 [==============================] - 106s 595ms/step - loss: 0.2111 - accuracy: 0.9282 - val_loss: 0.2869 - val_accuracy: 0.8930\n",
      "Epoch 77/100\n",
      "178/178 [==============================] - 110s 616ms/step - loss: 0.2103 - accuracy: 0.9278 - val_loss: 0.3248 - val_accuracy: 0.8961\n",
      "Epoch 78/100\n",
      "178/178 [==============================] - 107s 595ms/step - loss: 0.2066 - accuracy: 0.9292 - val_loss: 0.2246 - val_accuracy: 0.9180\n",
      "Epoch 79/100\n",
      "178/178 [==============================] - 110s 614ms/step - loss: 0.1854 - accuracy: 0.9327 - val_loss: 0.2271 - val_accuracy: 0.9195\n",
      "Epoch 80/100\n",
      "178/178 [==============================] - 110s 618ms/step - loss: 0.1877 - accuracy: 0.9354 - val_loss: 0.2325 - val_accuracy: 0.9180\n",
      "Epoch 81/100\n",
      "178/178 [==============================] - 111s 619ms/step - loss: 0.1855 - accuracy: 0.9331 - val_loss: 0.2305 - val_accuracy: 0.9125\n",
      "Epoch 82/100\n",
      "178/178 [==============================] - 111s 623ms/step - loss: 0.1918 - accuracy: 0.9354 - val_loss: 0.2855 - val_accuracy: 0.9000\n",
      "Epoch 83/100\n",
      "178/178 [==============================] - 106s 598ms/step - loss: 0.1788 - accuracy: 0.9384 - val_loss: 0.2404 - val_accuracy: 0.9195\n",
      "Epoch 84/100\n",
      "178/178 [==============================] - 108s 603ms/step - loss: 0.1920 - accuracy: 0.9350 - val_loss: 0.2032 - val_accuracy: 0.9336\n",
      "Epoch 85/100\n",
      "178/178 [==============================] - 110s 617ms/step - loss: 0.1781 - accuracy: 0.9398 - val_loss: 0.2261 - val_accuracy: 0.9195\n",
      "Epoch 86/100\n",
      "178/178 [==============================] - 110s 618ms/step - loss: 0.1883 - accuracy: 0.9373 - val_loss: 0.2784 - val_accuracy: 0.8945\n",
      "Epoch 87/100\n",
      "178/178 [==============================] - 111s 621ms/step - loss: 0.1866 - accuracy: 0.9349 - val_loss: 0.2407 - val_accuracy: 0.9148\n",
      "Epoch 88/100\n",
      "178/178 [==============================] - 111s 623ms/step - loss: 0.1839 - accuracy: 0.9368 - val_loss: 0.2528 - val_accuracy: 0.9094\n",
      "Epoch 89/100\n",
      "178/178 [==============================] - 107s 602ms/step - loss: 0.1753 - accuracy: 0.9361 - val_loss: 0.2233 - val_accuracy: 0.9234\n",
      "Epoch 90/100\n",
      "178/178 [==============================] - 107s 600ms/step - loss: 0.1906 - accuracy: 0.9359 - val_loss: 0.2463 - val_accuracy: 0.9102\n",
      "Epoch 91/100\n",
      "178/178 [==============================] - 110s 619ms/step - loss: 0.1915 - accuracy: 0.9361 - val_loss: 0.2891 - val_accuracy: 0.8914\n",
      "Epoch 92/100\n",
      "178/178 [==============================] - 110s 616ms/step - loss: 0.1798 - accuracy: 0.9387 - val_loss: 0.2527 - val_accuracy: 0.9000\n",
      "Epoch 93/100\n",
      "178/178 [==============================] - 107s 598ms/step - loss: 0.1862 - accuracy: 0.9386 - val_loss: 0.1963 - val_accuracy: 0.9172\n",
      "Epoch 94/100\n",
      "178/178 [==============================] - 110s 618ms/step - loss: 0.1778 - accuracy: 0.9408 - val_loss: 0.1788 - val_accuracy: 0.9383\n",
      "Epoch 95/100\n",
      "178/178 [==============================] - 110s 617ms/step - loss: 0.1766 - accuracy: 0.9377 - val_loss: 0.1795 - val_accuracy: 0.9281\n",
      "Epoch 96/100\n",
      "178/178 [==============================] - 107s 602ms/step - loss: 0.1678 - accuracy: 0.9396 - val_loss: 0.2543 - val_accuracy: 0.9180\n",
      "Epoch 97/100\n",
      "178/178 [==============================] - 107s 597ms/step - loss: 0.1734 - accuracy: 0.9380 - val_loss: 0.2175 - val_accuracy: 0.9273\n",
      "Epoch 98/100\n",
      "178/178 [==============================] - 107s 598ms/step - loss: 0.1721 - accuracy: 0.9461 - val_loss: 0.1773 - val_accuracy: 0.9430\n",
      "Epoch 99/100\n",
      "178/178 [==============================] - 109s 608ms/step - loss: 0.1684 - accuracy: 0.9382 - val_loss: 0.2963 - val_accuracy: 0.9062\n",
      "Epoch 100/100\n",
      "178/178 [==============================] - 107s 599ms/step - loss: 0.1779 - accuracy: 0.9373 - val_loss: 0.2662 - val_accuracy: 0.9125\n"
     ]
    },
    {
     "data": {
      "text/plain": [
       "<keras.callbacks.History at 0x7f11f53a17d0>"
      ]
     },
     "execution_count": 13,
     "metadata": {},
     "output_type": "execute_result"
    }
   ],
   "source": [
    "# Fit CNN model\n",
    "batch_size=32\n",
    "model.fit(train_data, \n",
    "         steps_per_epoch=train_data.samples//batch_size,\n",
    "                    validation_data=test_data, \n",
    "                    validation_steps=test_data.samples//batch_size, \n",
    "                    epochs=100, \n",
    "                    verbose=1)"
   ]
  },
  {
   "cell_type": "code",
   "execution_count": 14,
   "id": "2fe6a3fe",
   "metadata": {
    "execution": {
     "iopub.execute_input": "2023-03-02T00:41:15.005702Z",
     "iopub.status.busy": "2023-03-02T00:41:15.005328Z",
     "iopub.status.idle": "2023-03-02T00:41:15.027009Z",
     "shell.execute_reply": "2023-03-02T00:41:15.025962Z"
    },
    "papermill": {
     "duration": 1.072314,
     "end_time": "2023-03-02T00:41:15.029450",
     "exception": false,
     "start_time": "2023-03-02T00:41:13.957136",
     "status": "completed"
    },
    "tags": []
   },
   "outputs": [
    {
     "data": {
      "text/html": [
       "<div>\n",
       "<style scoped>\n",
       "    .dataframe tbody tr th:only-of-type {\n",
       "        vertical-align: middle;\n",
       "    }\n",
       "\n",
       "    .dataframe tbody tr th {\n",
       "        vertical-align: top;\n",
       "    }\n",
       "\n",
       "    .dataframe thead th {\n",
       "        text-align: right;\n",
       "    }\n",
       "</style>\n",
       "<table border=\"1\" class=\"dataframe\">\n",
       "  <thead>\n",
       "    <tr style=\"text-align: right;\">\n",
       "      <th></th>\n",
       "      <th>loss</th>\n",
       "      <th>accuracy</th>\n",
       "      <th>val_loss</th>\n",
       "      <th>val_accuracy</th>\n",
       "    </tr>\n",
       "  </thead>\n",
       "  <tbody>\n",
       "    <tr>\n",
       "      <th>95</th>\n",
       "      <td>0.167835</td>\n",
       "      <td>0.939613</td>\n",
       "      <td>0.254323</td>\n",
       "      <td>0.917969</td>\n",
       "    </tr>\n",
       "    <tr>\n",
       "      <th>96</th>\n",
       "      <td>0.173382</td>\n",
       "      <td>0.938028</td>\n",
       "      <td>0.217535</td>\n",
       "      <td>0.927344</td>\n",
       "    </tr>\n",
       "    <tr>\n",
       "      <th>97</th>\n",
       "      <td>0.172109</td>\n",
       "      <td>0.946127</td>\n",
       "      <td>0.177315</td>\n",
       "      <td>0.942969</td>\n",
       "    </tr>\n",
       "    <tr>\n",
       "      <th>98</th>\n",
       "      <td>0.168392</td>\n",
       "      <td>0.938204</td>\n",
       "      <td>0.296323</td>\n",
       "      <td>0.906250</td>\n",
       "    </tr>\n",
       "    <tr>\n",
       "      <th>99</th>\n",
       "      <td>0.177869</td>\n",
       "      <td>0.937324</td>\n",
       "      <td>0.266195</td>\n",
       "      <td>0.912500</td>\n",
       "    </tr>\n",
       "  </tbody>\n",
       "</table>\n",
       "</div>"
      ],
      "text/plain": [
       "        loss  accuracy  val_loss  val_accuracy\n",
       "95  0.167835  0.939613  0.254323      0.917969\n",
       "96  0.173382  0.938028  0.217535      0.927344\n",
       "97  0.172109  0.946127  0.177315      0.942969\n",
       "98  0.168392  0.938204  0.296323      0.906250\n",
       "99  0.177869  0.937324  0.266195      0.912500"
      ]
     },
     "execution_count": 14,
     "metadata": {},
     "output_type": "execute_result"
    }
   ],
   "source": [
    "df= pd.DataFrame(model.history.history)\n",
    "df.tail()"
   ]
  },
  {
   "cell_type": "code",
   "execution_count": 15,
   "id": "9cb227e2",
   "metadata": {
    "execution": {
     "iopub.execute_input": "2023-03-02T00:41:16.974347Z",
     "iopub.status.busy": "2023-03-02T00:41:16.973511Z",
     "iopub.status.idle": "2023-03-02T00:41:17.235774Z",
     "shell.execute_reply": "2023-03-02T00:41:17.234777Z"
    },
    "papermill": {
     "duration": 1.241797,
     "end_time": "2023-03-02T00:41:17.237863",
     "exception": false,
     "start_time": "2023-03-02T00:41:15.996066",
     "status": "completed"
    },
    "tags": []
   },
   "outputs": [
    {
     "data": {
      "text/plain": [
       "<AxesSubplot:>"
      ]
     },
     "execution_count": 15,
     "metadata": {},
     "output_type": "execute_result"
    },
    {
     "data": {
      "image/png": "[encoded data removed]",
      "text/plain": [
       "<Figure size 640x480 with 1 Axes>"
      ]
     },
     "metadata": {},
     "output_type": "display_data"
    }
   ],
   "source": [
    "df[['accuracy','val_accuracy']].plot()"
   ]
  },
  {
   "cell_type": "code",
   "execution_count": 16,
   "id": "173fecc2",
   "metadata": {
    "execution": {
     "iopub.execute_input": "2023-03-02T00:41:19.638495Z",
     "iopub.status.busy": "2023-03-02T00:41:19.637932Z",
     "iopub.status.idle": "2023-03-02T00:41:38.109578Z",
     "shell.execute_reply": "2023-03-02T00:41:38.108432Z"
    },
    "papermill": {
     "duration": 19.825568,
     "end_time": "2023-03-02T00:41:38.112066",
     "exception": false,
     "start_time": "2023-03-02T00:41:18.286498",
     "status": "completed"
    },
    "tags": []
   },
   "outputs": [
    {
     "name": "stdout",
     "output_type": "stream",
     "text": [
      "41/41 [==============================] - 18s 431ms/step\n"
     ]
    },
    {
     "data": {
      "text/plain": [
       "{'glioma': 0, 'meningioma': 1, 'notumor': 2, 'pituitary': 3}"
      ]
     },
     "execution_count": 16,
     "metadata": {},
     "output_type": "execute_result"
    }
   ],
   "source": [
    "predictions = model.predict(test_data)\n",
    "train_data.class_indices\n"
   ]
  },
  {
   "cell_type": "code",
   "execution_count": 17,
   "id": "6bb28184",
   "metadata": {
    "execution": {
     "iopub.execute_input": "2023-03-02T00:41:40.044282Z",
     "iopub.status.busy": "2023-03-02T00:41:40.043656Z",
     "iopub.status.idle": "2023-03-02T00:41:57.855468Z",
     "shell.execute_reply": "2023-03-02T00:41:57.854526Z"
    },
    "papermill": {
     "duration": 18.772062,
     "end_time": "2023-03-02T00:41:57.857510",
     "exception": false,
     "start_time": "2023-03-02T00:41:39.085448",
     "status": "completed"
    },
    "tags": []
   },
   "outputs": [
    {
     "name": "stdout",
     "output_type": "stream",
     "text": [
      "41/41 [==============================] - 17s 423ms/step - loss: 0.2698 - accuracy: 0.9123\n"
     ]
    },
    {
     "data": {
      "text/plain": [
       "[0.26976698637008667, 0.9122806787490845]"
      ]
     },
     "execution_count": 17,
     "metadata": {},
     "output_type": "execute_result"
    }
   ],
   "source": [
    "model.evaluate(test_data)\n"
   ]
  }
 ],
 "metadata": {
  "kernelspec": {
   "display_name": "Python 3 (ipykernel)",
   "language": "python",
   "name": "python3"
  },
  "language_info": {
   "codemirror_mode": {
    "name": "ipython",
    "version": 3
   },
   "file_extension": ".py",
   "mimetype": "text/x-python",
   "name": "python",
   "nbconvert_exporter": "python",
   "pygments_lexer": "ipython3",
   "version": "3.9.5"
  },
  "papermill": {
   "default_parameters": {},
   "duration": 12708.752254,
   "end_time": "2023-03-02T00:42:01.895861",
   "environment_variables": {},
   "exception": null,
   "input_path": "__notebook__.ipynb",
   "output_path": "__notebook__.ipynb",
   "parameters": {},
   "start_time": "2023-03-01T21:10:13.143607",
   "version": "2.4.0"
  }
 },
 "nbformat": 4,
 "nbformat_minor": 5
}
