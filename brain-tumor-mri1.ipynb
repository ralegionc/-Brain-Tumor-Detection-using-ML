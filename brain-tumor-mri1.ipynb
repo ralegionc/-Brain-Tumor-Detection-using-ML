{
 "cells": [
  {
   "cell_type": "code",
   "execution_count": 1,
   "metadata": {
    "_cell_guid": "b1076dfc-b9ad-4769-8c92-a6c4dae69d19",
    "_uuid": "8f2839f25d086af736a60e9eeb907d3b93b6e0e5",
    "execution": {
     "iopub.execute_input": "2022-10-02T16:03:12.757118Z",
     "iopub.status.busy": "2022-10-02T16:03:12.756729Z",
     "iopub.status.idle": "2022-10-02T16:03:12.765366Z",
     "shell.execute_reply": "2022-10-02T16:03:12.764404Z",
     "shell.execute_reply.started": "2022-10-02T16:03:12.757088Z"
    }
   },
   "outputs": [],
   "source": [
    "from pathlib import Path\n",
    "import numpy as np\n",
    "import pandas as pd\n",
    "import seaborn as sns\n",
    "from sklearn import *\n",
    "from sklearn.metrics import classification_report,plot_confusion_matrix,confusion_matrix,ConfusionMatrixDisplay,roc_curve,RocCurveDisplay,precision_recall_curve,PrecisionRecallDisplay\n",
    "\n",
    "import matplotlib.pyplot as plt\n",
    "from mpl_toolkits.axes_grid1 import ImageGrid\n",
    "from sklearn.utils import shuffle\n",
    "import cv2\n",
    "from tensorflow.keras.preprocessing import image\n",
    "from tensorflow.keras.applications import VGG16,EfficientNetB3,EfficientNetB2,EfficientNetB1,EfficientNetB7,EfficientNetB0,Xception\n",
    "import tensorflow as tf\n",
    "from tensorflow.keras.callbacks import EarlyStopping, ReduceLROnPlateau, TensorBoard, ModelCheckpoint\n",
    "from tensorflow.keras.utils import to_categorical"
   ]
  },
  {
   "cell_type": "markdown",
   "metadata": {},
   "source": [
    "__<h2>class for data preprocessing and network</h2>__"
   ]
  },
  {
   "cell_type": "code",
   "execution_count": 2,
   "metadata": {
    "execution": {
     "iopub.execute_input": "2022-10-02T16:03:12.811277Z",
     "iopub.status.busy": "2022-10-02T16:03:12.810534Z",
     "iopub.status.idle": "2022-10-02T16:03:12.828836Z",
     "shell.execute_reply": "2022-10-02T16:03:12.827854Z",
     "shell.execute_reply.started": "2022-10-02T16:03:12.81125Z"
    },
    "jupyter": {
     "source_hidden": true
    }
   },
   "outputs": [],
   "source": [
    "class main_class():\n",
    "    def __init__(self,path_add):\n",
    "        self.path_add=path_add\n",
    "        \n",
    "    def data_frame(self):\n",
    "        images_link = list(self.path_add.glob(r'**/*.*'))\n",
    "        images_name = [x.parents[0].stem for x in images_link]\n",
    "        images_labels=preprocessing.LabelEncoder().fit_transform(images_name)\n",
    "\n",
    "        df=pd.DataFrame(list(zip(images_link,images_name,images_labels)),columns=['Link','Name','label'])\n",
    "        return df\n",
    "    \n",
    "    def img_show(self,image_links,plot_size,):\n",
    "        df=image_links.sample(frac=1)\n",
    "        fig = plt.figure(1, figsize=(25, 25))\n",
    "        grid = ImageGrid(fig,121, nrows_ncols=(plot_size, 2), axes_pad=0.10)\n",
    "        i = 0\n",
    "        for category_id, category in enumerate(df.Name.unique()):\n",
    "            for filepath in df[df['Name'] == category]['Link'].values[:2]:\n",
    "                ax = grid[i]\n",
    "                img = image.load_img(filepath,(150,150))\n",
    "                img=image.img_to_array(img)\n",
    "                ax.imshow(img/255)\n",
    "                ax.axis('off')\n",
    "                if i % 2 == 2 - 1:\n",
    "                    ax.text(600, 200, category, verticalalignment='center',fontsize=20,color = 'red')\n",
    "        \n",
    "            \n",
    "                i+=1\n",
    "    \n",
    "        plt.show()\n",
    "        \n",
    "    def EfficientNet_call(self,df,EfficientNet,imsize,epoch,batch):\n",
    "        image_data=[]\n",
    "        for i in df.Link:\n",
    "            img_pre=cv2.imread(str(i))\n",
    "            img_pre=cv2.resize(img_pre, (imsize,imsize))\n",
    "            image_data.append(img_pre)\n",
    "        \n",
    "        x=np.array(image_data)\n",
    "        y=to_categorical(df.label)\n",
    "        x_data, y_data=shuffle(x,y,random_state=42)\n",
    "        xtrain,xtest,ytrain,ytest=model_selection.train_test_split(x_data, y_data, test_size=0.1, random_state=42)\n",
    "        \n",
    "        efficient = EfficientNet(weights='imagenet',include_top = False, input_shape=(imsize, imsize, 3))\n",
    "        model = efficient.output\n",
    "        model = tf.keras.layers.GlobalAveragePooling2D()(model)\n",
    "        model = tf.keras.layers.Dropout(0.5)(model)\n",
    "        model = tf.keras.layers.Dense(4, activation = \"softmax\")(model)\n",
    "        model = tf.keras.models.Model(inputs = efficient.input , outputs = model)\n",
    "        model.compile(loss = 'categorical_crossentropy', \n",
    "                      optimizer = \"Adam\", \n",
    "                      metrics=[\"accuracy\"]\n",
    "                      )\n",
    "\n",
    "        tensorboard = TensorBoard(log_dir=\"logs\")\n",
    "        checkpoint = ModelCheckpoint(\"efficient.h5\",\n",
    "                                     monitor='val_accuracy', \n",
    "                                     mode = \"auto\", \n",
    "                                     verbose = 1,\n",
    "                                     save_best_only =True)\n",
    "        reduce_LR = ReduceLROnPlateau(monitor=\"val_accuracy\",\n",
    "                                      factor = 0.3, \n",
    "                                      patience = 2, \n",
    "                                      min_delta=0.001, \n",
    "                                      mode = \"auto\", \n",
    "                                      verbose = 1)\n",
    "        history = model.fit(xtrain, ytrain,\n",
    "                  validation_data =(xtest,ytest), \n",
    "                  epochs = epoch, \n",
    "                  verbose =1, \n",
    "                  batch_size = batch, \n",
    "                  callbacks = [tensorboard, checkpoint, reduce_LR])\n",
    "        \n",
    "        return model,xtrain,xtest,ytrain,ytest,history\n"
   ]
  },
  {
   "cell_type": "markdown",
   "metadata": {},
   "source": [
    "__<h2>for data frame</h2>__"
   ]
  },
  {
   "cell_type": "code",
   "execution_count": 3,
   "metadata": {
    "execution": {
     "iopub.execute_input": "2022-10-02T16:03:12.831701Z",
     "iopub.status.busy": "2022-10-02T16:03:12.830921Z",
     "iopub.status.idle": "2022-10-02T16:03:17.903929Z",
     "shell.execute_reply": "2022-10-02T16:03:17.902959Z",
     "shell.execute_reply.started": "2022-10-02T16:03:12.831666Z"
    }
   },
   "outputs": [],
   "source": [
    "dataset_path = Path(\"/kaggle/input\", \"brain-tumor-mri-dataset\")\n",
    "data_info=main_class(dataset_path)\n",
    "df=data_info.data_frame()"
   ]
  },
  {
   "cell_type": "markdown",
   "metadata": {},
   "source": [
    "__<h2>random image plot</h2>__"
   ]
  },
  {
   "cell_type": "code",
   "execution_count": 4,
   "metadata": {
    "execution": {
     "iopub.execute_input": "2022-10-02T16:03:17.906968Z",
     "iopub.status.busy": "2022-10-02T16:03:17.906239Z",
     "iopub.status.idle": "2022-10-02T16:03:18.422996Z",
     "shell.execute_reply": "2022-10-02T16:03:18.421751Z",
     "shell.execute_reply.started": "2022-10-02T16:03:17.906928Z"
    }
   },
   "outputs": [
    {
     "ename": "ValueError",
     "evalue": "'a' cannot be empty unless no samples are taken",
     "output_type": "error",
     "traceback": [
      "\u001b[1;31m---------------------------------------------------------------------------\u001b[0m",
      "\u001b[1;31mValueError\u001b[0m                                Traceback (most recent call last)",
      "\u001b[1;32m~\\AppData\\Local\\Temp/ipykernel_32052/513917636.py\u001b[0m in \u001b[0;36m<module>\u001b[1;34m\u001b[0m\n\u001b[1;32m----> 1\u001b[1;33m \u001b[0mname_image\u001b[0m\u001b[1;33m=\u001b[0m\u001b[0mnp\u001b[0m\u001b[1;33m.\u001b[0m\u001b[0mrandom\u001b[0m\u001b[1;33m.\u001b[0m\u001b[0mchoice\u001b[0m\u001b[1;33m(\u001b[0m\u001b[0mnp\u001b[0m\u001b[1;33m.\u001b[0m\u001b[0munique\u001b[0m\u001b[1;33m(\u001b[0m\u001b[0mdf\u001b[0m\u001b[1;33m.\u001b[0m\u001b[0mName\u001b[0m\u001b[1;33m)\u001b[0m\u001b[1;33m)\u001b[0m\u001b[1;33m\u001b[0m\u001b[1;33m\u001b[0m\u001b[0m\n\u001b[0m\u001b[0;32m      2\u001b[0m \u001b[0mdata_info\u001b[0m\u001b[1;33m.\u001b[0m\u001b[0mimg_show\u001b[0m\u001b[1;33m(\u001b[0m\u001b[0mdf\u001b[0m\u001b[1;33m[\u001b[0m\u001b[0mdf\u001b[0m\u001b[1;33m.\u001b[0m\u001b[0mName\u001b[0m\u001b[1;33m==\u001b[0m\u001b[0mname_image\u001b[0m\u001b[1;33m]\u001b[0m\u001b[1;33m,\u001b[0m\u001b[1;36m2\u001b[0m\u001b[1;33m)\u001b[0m\u001b[1;33m\u001b[0m\u001b[1;33m\u001b[0m\u001b[0m\n",
      "\u001b[1;32mmtrand.pyx\u001b[0m in \u001b[0;36mnumpy.random.mtrand.RandomState.choice\u001b[1;34m()\u001b[0m\n",
      "\u001b[1;31mValueError\u001b[0m: 'a' cannot be empty unless no samples are taken"
     ]
    }
   ],
   "source": [
    "name_image=np.random.choice(np.unique(df.Name))\n",
    "data_info.img_show(df[df.Name==name_image],2)"
   ]
  },
  {
   "cell_type": "markdown",
   "metadata": {},
   "source": [
    "__<h2>model fit</h2>__"
   ]
  },
  {
   "cell_type": "code",
   "execution_count": null,
   "metadata": {
    "execution": {
     "iopub.execute_input": "2022-10-02T16:03:18.425311Z",
     "iopub.status.busy": "2022-10-02T16:03:18.42439Z",
     "iopub.status.idle": "2022-10-02T16:12:39.181261Z",
     "shell.execute_reply": "2022-10-02T16:12:39.180226Z",
     "shell.execute_reply.started": "2022-10-02T16:03:18.425273Z"
    }
   },
   "outputs": [],
   "source": [
    "main_dt=data_info.EfficientNet_call(df,EfficientNetB1,150,15,32)"
   ]
  },
  {
   "cell_type": "markdown",
   "metadata": {},
   "source": [
    "__<h1>predict test image plot</h1>"
   ]
  },
  {
   "cell_type": "code",
   "execution_count": null,
   "metadata": {
    "execution": {
     "iopub.execute_input": "2022-10-02T16:12:39.185177Z",
     "iopub.status.busy": "2022-10-02T16:12:39.184886Z",
     "iopub.status.idle": "2022-10-02T16:12:42.528518Z",
     "shell.execute_reply": "2022-10-02T16:12:42.522811Z",
     "shell.execute_reply.started": "2022-10-02T16:12:39.185149Z"
    }
   },
   "outputs": [],
   "source": [
    "result_pre = np.argmax(main_dt[0].predict(main_dt[2]), axis=1)\n",
    "result_acc = np.argmax(main_dt[4], axis=1)\n",
    "\n",
    "plt.figure(figsize=(20, 20))   \n",
    "for i in range(16):\n",
    "    ax = plt.subplot(4, 4, i + 1)\n",
    "    plt.imshow(main_dt[2][i])\n",
    "    plt.title('glioma' if result_pre[i]==0 \n",
    "                else 'meningioma' if result_pre[i]==1 \n",
    "                else 'notumor' if result_pre[i]==2\n",
    "                else 'pituitary',fontsize=20)\n",
    "    plt.suptitle('Test Image plot and labels',fontsize=30)\n",
    "    plt.axis(\"off\")\n",
    "\n",
    "plt.show()"
   ]
  },
  {
   "cell_type": "markdown",
   "metadata": {
    "execution": {
     "iopub.execute_input": "2022-10-02T15:56:33.570434Z",
     "iopub.status.busy": "2022-10-02T15:56:33.570073Z",
     "iopub.status.idle": "2022-10-02T15:56:33.577185Z",
     "shell.execute_reply": "2022-10-02T15:56:33.57576Z",
     "shell.execute_reply.started": "2022-10-02T15:56:33.570405Z"
    }
   },
   "source": [
    "__<h2>confusion_matrix plot</h2>__"
   ]
  },
  {
   "cell_type": "code",
   "execution_count": null,
   "metadata": {
    "execution": {
     "iopub.execute_input": "2022-10-02T16:12:42.531128Z",
     "iopub.status.busy": "2022-10-02T16:12:42.530448Z",
     "iopub.status.idle": "2022-10-02T16:12:42.923624Z",
     "shell.execute_reply": "2022-10-02T16:12:42.922669Z",
     "shell.execute_reply.started": "2022-10-02T16:12:42.531086Z"
    }
   },
   "outputs": [],
   "source": [
    "con_max = confusion_matrix(result_acc,result_pre)\n",
    "cm = confusion_matrix(result_acc,result_pre)\n",
    "cmp = ConfusionMatrixDisplay(cm,display_labels = ['glioma', 'meningioma','notumor', 'pituitary'])\n",
    "fig, ax = plt.subplots(figsize=(15,15))\n",
    "cmp.plot(ax=ax, xticks_rotation=90)"
   ]
  },
  {
   "cell_type": "markdown",
   "metadata": {},
   "source": [
    "__<h2>classification_report</h2>__"
   ]
  },
  {
   "cell_type": "code",
   "execution_count": null,
   "metadata": {
    "execution": {
     "iopub.execute_input": "2022-10-02T16:12:42.925785Z",
     "iopub.status.busy": "2022-10-02T16:12:42.925157Z",
     "iopub.status.idle": "2022-10-02T16:12:42.937276Z",
     "shell.execute_reply": "2022-10-02T16:12:42.935999Z",
     "shell.execute_reply.started": "2022-10-02T16:12:42.925746Z"
    }
   },
   "outputs": [],
   "source": [
    "print(classification_report(result_acc,result_pre,target_names=['glioma', 'meningioma','notumor', 'pituitary']))"
   ]
  },
  {
   "cell_type": "markdown",
   "metadata": {
    "execution": {
     "iopub.execute_input": "2022-10-02T15:58:42.728009Z",
     "iopub.status.busy": "2022-10-02T15:58:42.727611Z",
     "iopub.status.idle": "2022-10-02T15:58:42.735485Z",
     "shell.execute_reply": "2022-10-02T15:58:42.73396Z",
     "shell.execute_reply.started": "2022-10-02T15:58:42.727978Z"
    }
   },
   "source": [
    "__<h2>model accuracy,loss data frame with epoch </h2>__"
   ]
  },
  {
   "cell_type": "code",
   "execution_count": null,
   "metadata": {
    "execution": {
     "iopub.execute_input": "2022-10-02T16:12:42.939389Z",
     "iopub.status.busy": "2022-10-02T16:12:42.938896Z",
     "iopub.status.idle": "2022-10-02T16:12:42.95931Z",
     "shell.execute_reply": "2022-10-02T16:12:42.95841Z",
     "shell.execute_reply.started": "2022-10-02T16:12:42.939353Z"
    }
   },
   "outputs": [],
   "source": [
    "df_acc=pd.DataFrame()\n",
    "df_acc['Loss']=main_dt[5].history['loss']\n",
    "df_acc['Value Loss']=main_dt[5].history['val_loss']\n",
    "df_acc['Accuracy']=main_dt[5].history['accuracy']\n",
    "df_acc['Value Accuracy']=main_dt[5].history['val_accuracy']\n",
    "df_acc"
   ]
  },
  {
   "cell_type": "markdown",
   "metadata": {},
   "source": [
    "__<h2>Top accuracy</h2>__"
   ]
  },
  {
   "cell_type": "code",
   "execution_count": null,
   "metadata": {
    "execution": {
     "iopub.execute_input": "2022-10-02T16:12:42.961574Z",
     "iopub.status.busy": "2022-10-02T16:12:42.960838Z",
     "iopub.status.idle": "2022-10-02T16:12:43.17882Z",
     "shell.execute_reply": "2022-10-02T16:12:43.1779Z",
     "shell.execute_reply.started": "2022-10-02T16:12:42.961534Z"
    }
   },
   "outputs": [],
   "source": [
    "df_acc.sort_values('Loss',ascending=False).head(1).plot(kind='bar',figsize = (12,8))"
   ]
  },
  {
   "cell_type": "markdown",
   "metadata": {},
   "source": [
    "__<h2>Loss,Accuracy polt</h2>__"
   ]
  },
  {
   "cell_type": "code",
   "execution_count": null,
   "metadata": {
    "execution": {
     "iopub.execute_input": "2022-10-02T16:12:43.180552Z",
     "iopub.status.busy": "2022-10-02T16:12:43.180193Z",
     "iopub.status.idle": "2022-10-02T16:12:43.592585Z",
     "shell.execute_reply": "2022-10-02T16:12:43.591647Z",
     "shell.execute_reply.started": "2022-10-02T16:12:43.180517Z"
    }
   },
   "outputs": [],
   "source": [
    "# summarize history for accuracy\n",
    "plt.plot(main_dt[5].history['accuracy'])\n",
    "plt.plot(main_dt[5].history['val_accuracy'])\n",
    "plt.title('model accuracy')\n",
    "plt.ylabel('accuracy')\n",
    "plt.xlabel('epoch')\n",
    "plt.legend(['train', 'test'], loc='upper left')\n",
    "plt.show()\n",
    "# summarize history for loss\n",
    "plt.plot(main_dt[5].history['loss'])\n",
    "plt.plot(main_dt[5].history['val_loss'])\n",
    "plt.title('model loss')\n",
    "plt.ylabel('loss')\n",
    "plt.xlabel('epoch')\n",
    "plt.legend(['train', 'test'], loc='upper left')\n",
    "plt.show()"
   ]
  },
  {
   "cell_type": "markdown",
   "metadata": {},
   "source": [
    "__<h2>Conclusion:</h2>__\n",
    "<div style=\"color:white;\n",
    "           display:fill;\n",
    "           border-radius:5px;\n",
    "           background-color:#5642C5;\n",
    "           font-size:110%;\n",
    "           font-family:Verdana;\n",
    "           letter-spacing:0.5px\">\n",
    "\n",
    "<p style=\"padding: 10px;color:white;\">\n",
    "If you have any suggestion, please do it.\n",
    "</p>\n",
    "</div>"
   ]
  }
 ],
 "metadata": {
  "kernelspec": {
   "display_name": "Python 3 (ipykernel)",
   "language": "python",
   "name": "python3"
  },
  "language_info": {
   "codemirror_mode": {
    "name": "ipython",
    "version": 3
   },
   "file_extension": ".py",
   "mimetype": "text/x-python",
   "name": "python",
   "nbconvert_exporter": "python",
   "pygments_lexer": "ipython3",
   "version": "3.9.5"
  }
 },
 "nbformat": 4,
 "nbformat_minor": 4
}
